{
 "cells": [
  {
   "cell_type": "markdown",
   "metadata": {},
   "source": [
    "Let's just get a quick sparsity overview of the methods so far."
   ]
  },
  {
   "cell_type": "code",
   "execution_count": 400,
   "metadata": {},
   "outputs": [],
   "source": [
    "import torch\n",
    "from torch.utils.data import DataLoader\n",
    "\n",
    "from torchvision import datasets\n",
    "import torchvision.transforms as transforms\n",
    "\n",
    "\n",
    "from torch import nn\n",
    "from torch.autograd import Variable\n",
    "from torch.nn import functional as F\n",
    "\n",
    "import numpy as np\n",
    "\n",
    "from torchvision.utils import save_image\n",
    "\n",
    "import matplotlib.pyplot as plt\n",
    "import math"
   ]
  },
  {
   "cell_type": "code",
   "execution_count": 401,
   "metadata": {},
   "outputs": [],
   "source": [
    "import os\n",
    "from os import listdir"
   ]
  },
  {
   "cell_type": "code",
   "execution_count": 402,
   "metadata": {},
   "outputs": [],
   "source": [
    "BASE_PATH_DATA = '../data/'\n",
    "#BASE_PATH_DATA = '/scratch/ns3429/sparse-subset/data'"
   ]
  },
  {
   "cell_type": "code",
   "execution_count": 403,
   "metadata": {},
   "outputs": [],
   "source": [
    "n_epochs = 100\n",
    "batch_size = 64\n",
    "lr = 0.000002\n",
    "b1 = 0.5\n",
    "b2 = 0.999\n",
    "img_size = 28\n",
    "channels = 1\n",
    "\n",
    "log_interval = 100\n",
    "\n",
    "\n",
    "z_size = 40\n",
    "\n",
    "n = 28 * 28\n",
    "\n",
    "# from running\n",
    "# EPSILON = np.finfo(tf.float32.as_numpy_dtype).tiny\n",
    "#EPSILON = 1.1754944e-38\n",
    "EPSILON = 1e-10"
   ]
  },
  {
   "cell_type": "code",
   "execution_count": 404,
   "metadata": {},
   "outputs": [],
   "source": [
    "cuda = True if torch.cuda.is_available() else False\n",
    "\n",
    "Tensor = torch.cuda.FloatTensor if cuda else torch.FloatTensor\n",
    "\n",
    "device = torch.device(\"cuda:0\" if cuda else \"cpu\")"
   ]
  },
  {
   "cell_type": "code",
   "execution_count": 405,
   "metadata": {},
   "outputs": [
    {
     "name": "stdout",
     "output_type": "stream",
     "text": [
      "Device\n",
      "cuda:0\n"
     ]
    }
   ],
   "source": [
    "print(\"Device\")\n",
    "print(device)"
   ]
  },
  {
   "cell_type": "code",
   "execution_count": 406,
   "metadata": {},
   "outputs": [],
   "source": [
    "import scipy.io as sio"
   ]
  },
  {
   "cell_type": "code",
   "execution_count": 407,
   "metadata": {},
   "outputs": [],
   "source": [
    "a = sio.loadmat(BASE_PATH_DATA + 'zeisel/CITEseq.mat')\n",
    "data= a['G'].T\n",
    "N,d=data.shape\n",
    "#transformation from integer entries \n",
    "data=np.log(data+np.ones(data.shape))\n",
    "#for i in range(N):\n",
    "for i in range(d):\n",
    "    #data[i,:]=data[i,:]/np.linalg.norm(data[i,:])\n",
    "    data[:,i]= (data[:,i] - np.min(data[:,i])) /  (np.max(data[:,i]) - np.min(data[:, i]))\n",
    "\n",
    "#load labels from file\n",
    "a = sio.loadmat(BASE_PATH_DATA + 'zeisel/CITEseq-labels.mat')\n",
    "l_aux = a['labels']\n",
    "labels = np.array([i for [i] in l_aux])\n",
    "\n",
    "#load names from file\n",
    "a = sio.loadmat(BASE_PATH_DATA + 'zeisel/CITEseq_names.mat')\n",
    "names=[a['citeseq_names'][i][0][0] for i in range(N)]"
   ]
  },
  {
   "cell_type": "code",
   "execution_count": 408,
   "metadata": {},
   "outputs": [],
   "source": [
    "slices = np.random.permutation(np.arange(data.shape[0]))\n",
    "upto = int(.8 * len(data))\n",
    "\n",
    "train_data = data[slices[:upto]]\n",
    "test_data = data[slices[upto:]]\n",
    "\n",
    "train_data = Tensor(train_data).to(device)\n",
    "test_data = Tensor(test_data).to(device)"
   ]
  },
  {
   "cell_type": "code",
   "execution_count": 409,
   "metadata": {},
   "outputs": [
    {
     "name": "stdout",
     "output_type": "stream",
     "text": [
      "tensor(0.1829, device='cuda:0')\n",
      "tensor(0.1833, device='cuda:0')\n"
     ]
    }
   ],
   "source": [
    "print(train_data.std(dim = 0).mean())\n",
    "print(test_data.std(dim = 0).mean())"
   ]
  },
  {
   "cell_type": "code",
   "execution_count": 410,
   "metadata": {},
   "outputs": [],
   "source": [
    "def loss_function_per_autoencoder(x, mu_x, logvar_x, mu_latent, logvar_latent):\n",
    "    # BCE = F.binary_cross_entropy(recon_x, x, reduction='sum')\n",
    "    # BCE = F.mse_loss(recon_x, x, reduction='sum')\n",
    "    loss_rec = -torch.sum(\n",
    "            (-0.5 * np.log(2.0 * np.pi))\n",
    "            + (-0.5 * logvar_x)\n",
    "            + ((-0.5 / torch.exp(logvar_x)) * (x - mu_x) ** 2.0))\n",
    "\n",
    "    # see Appendix B from VAE paper:\n",
    "    # Kingma and Welling. Auto-Encoding Variational Bayes. ICLR, 2014\n",
    "    # https://arxiv.org/abs/1312.6114\n",
    "    # 0.5 * sum(1 + log(sigma^2) - mu^2 - sigma^2)\n",
    "    KLD = -0.5 * torch.sum(1 + logvar_latent - mu_latent.pow(2) - logvar_latent.exp())\n",
    "    #print(loss_rec.item(), KLD.item())\n",
    "    return loss_rec + 130640 * KLD"
   ]
  },
  {
   "cell_type": "code",
   "execution_count": 411,
   "metadata": {},
   "outputs": [],
   "source": [
    "# KLD of D(P_1||P_2) where P_i are Gaussians, assuming diagonal\n",
    "def kld_joint_autoencoders(mu_1, mu_2, logvar_1, logvar_2):\n",
    "    # equation 6 of Tutorial on Variational Autoencoders by Carl Doersch\n",
    "    # https://arxiv.org/pdf/1606.05908.pdf\n",
    "    mu_12 = mu_1 - mu_2\n",
    "    kld = 0.5 * (-1 - (logvar_1 - logvar_2) + mu_12.pow(2) / logvar_2.exp() + torch.exp(logvar_1 - logvar_2))\n",
    "    #print(kld.shape)\n",
    "    kld = torch.sum(kld, dim = 1)\n",
    "    \n",
    "    return kld.sum()"
   ]
  },
  {
   "cell_type": "code",
   "execution_count": 412,
   "metadata": {},
   "outputs": [],
   "source": [
    "# for joint\n",
    "def loss_function_joint(x, ae_1, ae_2):\n",
    "    # assuming that both autoencoders return recon_x, mu, and logvar\n",
    "    # try to make ae_1 the vanilla vae\n",
    "    # ae_2 should be the L1 penalty VAE\n",
    "    mu_x_1, logvar_x_1, mu_latent_1, logvar_latent_1 = ae_1(x)\n",
    "    mu_x_2, logvar_x_2, mu_latent_2, logvar_latent_2 = ae_2(x)\n",
    "    \n",
    "    loss_vae_1 = loss_function_per_autoencoder(x, mu_x_1, logvar_x_1, mu_latent_1, logvar_latent_1)\n",
    "    loss_vae_2 = loss_function_per_autoencoder(x, mu_x_2, logvar_x_2, mu_latent_2, logvar_latent_2)\n",
    "    joint_kld_loss = kld_joint_autoencoders(mu_latent_1, mu_latent_2, logvar_latent_1, logvar_latent_1)\n",
    "    #print(\"Losses\")\n",
    "    #print(loss_vae_1)\n",
    "    #print(loss_vae_2)\n",
    "    #print(joint_kld_loss)\n",
    "    return loss_vae_1, loss_vae_2, joint_kld_loss"
   ]
  },
  {
   "cell_type": "markdown",
   "metadata": {},
   "source": [
    "Does L1 work if we normalize after every step?"
   ]
  },
  {
   "cell_type": "code",
   "execution_count": 413,
   "metadata": {},
   "outputs": [],
   "source": [
    "# L1 VAE model we are loading\n",
    "class VAE_l1_diag(nn.Module):\n",
    "    def __init__(self, input_size, hidden_layer_size, z_size):\n",
    "        super(VAE_l1_diag, self).__init__()\n",
    "        \n",
    "        self.diag = nn.Parameter(torch.normal(torch.zeros(input_size), \n",
    "                                 torch.ones(input_size)).to(device).requires_grad_(True))\n",
    "        \n",
    "        # self.fc1 = nn.Linear(input_size, hidden_layer_size)\n",
    "        self.fc21 = nn.Linear(hidden_layer_size, z_size)\n",
    "        self.fc22 = nn.Linear(hidden_layer_size, z_size)\n",
    "        self.fc3 = nn.Linear(z_size, hidden_layer_size)\n",
    "        self.fc4 = nn.Linear(hidden_layer_size, input_size)\n",
    "        self.fc5 = nn.Linear(hidden_layer_size, input_size)\n",
    "        \n",
    "        self.encoder = nn.Sequential(\n",
    "            nn.Linear(input_size, hidden_layer_size),\n",
    "            nn.LeakyReLU(),\n",
    "            nn.Linear(hidden_layer_size, hidden_layer_size),\n",
    "            nn.LeakyReLU(),\n",
    "            nn.Linear(hidden_layer_size, hidden_layer_size),\n",
    "            nn.LeakyReLU()\n",
    "        )\n",
    "\n",
    "    def encode(self, x):\n",
    "        self.selection_layer = torch.diag(self.diag)\n",
    "        h0 = torch.mm(x, self.selection_layer)\n",
    "        h1 = self.encoder(h0)\n",
    "        return self.fc21(h1), self.fc22(h1)\n",
    "\n",
    "    def reparameterize(self, mu, logvar):\n",
    "        std = torch.exp(0.5*logvar)\n",
    "        eps = torch.randn_like(std)\n",
    "        return mu + eps*std\n",
    "\n",
    "    def decode(self, z):\n",
    "        h = F.leaky_relu(self.fc3(z))\n",
    "        mu_x = F.leaky_relu(self.fc4(h))\n",
    "        #mu_x = self.fc4(h)\n",
    "        logvar_x = self.fc5(h)\n",
    "        return mu_x, logvar_x\n",
    "\n",
    "    def forward(self, x):\n",
    "        mu_latent, logvar_latent = self.encode(x)\n",
    "        z = self.reparameterize(mu_latent, logvar_latent)\n",
    "        mu_x, logvar_x = self.decode(z)\n",
    "        return mu_x, logvar_x, mu_latent, logvar_latent\n"
   ]
  },
  {
   "cell_type": "code",
   "execution_count": 414,
   "metadata": {},
   "outputs": [],
   "source": [
    "def train_l1(df, model, optimizer, epoch):\n",
    "    model.train()\n",
    "    train_loss = 0\n",
    "    permutations = torch.randperm(df.shape[0])\n",
    "    for i in range(math.ceil(len(df)/batch_size)):\n",
    "        batch_ind = permutations[i * batch_size : (i+1) * batch_size]\n",
    "        batch_data = df[batch_ind, :]\n",
    "        \n",
    "        optimizer.zero_grad()\n",
    "        mu_x, logvar_x, mu_latent, logvar_latent = model(batch_data)\n",
    "        loss = loss_function_per_autoencoder(batch_data, mu_x, logvar_x, mu_latent, logvar_latent)\n",
    "        loss += 1000 * torch.norm(model.diag, p = 1)\n",
    "        loss.backward()\n",
    "        train_loss += loss.item()\n",
    "        optimizer.step()\n",
    "        \n",
    "        with torch.no_grad():\n",
    "            model.diag.data /= torch.norm(model.diag.data, p = 2)\n",
    "        \n",
    "        if i % log_interval == 0:\n",
    "            print('Train Epoch: {} [{}/{} ({:.0f}%)]\\tLoss: {:.6f}'.format(\n",
    "                epoch, i * len(batch_data), len(df),\n",
    "                100. * i / len(df),\n",
    "                loss.item() / len(batch_data)))\n",
    "\n",
    "    print('====> Epoch: {} Average loss: {:.4f}'.format(\n",
    "          epoch, train_loss / len(df)))\n",
    "    \n",
    "    \n"
   ]
  },
  {
   "cell_type": "code",
   "execution_count": 415,
   "metadata": {},
   "outputs": [],
   "source": [
    "def test(df, model, epoch):\n",
    "    model.eval()\n",
    "    test_loss = 0\n",
    "    inds = np.arange(df.shape[0])\n",
    "    with torch.no_grad():\n",
    "        for i in range(math.ceil(len(df)/batch_size)):\n",
    "            batch_ind = inds[i * batch_size : (i+1) * batch_size]\n",
    "            batch_data = df[batch_ind, :]\n",
    "            batch_data = batch_data.to(device)\n",
    "            mu_x, logvar_x, mu_latent, logvar_latent = model(batch_data)\n",
    "            test_loss += loss_function_per_autoencoder(batch_data, mu_x, logvar_x, mu_latent, logvar_latent).item()\n",
    "\n",
    "\n",
    "    test_loss /= len(df)\n",
    "    print('====> Test set loss: {:.4f}'.format(test_loss))"
   ]
  },
  {
   "cell_type": "code",
   "execution_count": 416,
   "metadata": {},
   "outputs": [],
   "source": [
    "model_l1_diag = VAE_l1_diag(500, 200, 50)\n",
    "\n",
    "model_l1_diag.to(device)\n",
    "model_l1_optimizer = torch.optim.Adam(model_l1_diag.parameters(), \n",
    "                                            lr=lr,\n",
    "                                            betas = (b1,b2))"
   ]
  },
  {
   "cell_type": "code",
   "execution_count": null,
   "metadata": {},
   "outputs": [
    {
     "name": "stdout",
     "output_type": "stream",
     "text": [
      "Train Epoch: 1 [0/6893 (0%)]\tLoss: 18919.675781\n",
      "Train Epoch: 1 [6400/6893 (1%)]\tLoss: 11274.064453\n",
      "====> Epoch: 1 Average loss: 11596.6926\n",
      "====> Test set loss: 10957.5660\n",
      "Train Epoch: 2 [0/6893 (0%)]\tLoss: 11232.386719\n",
      "Train Epoch: 2 [6400/6893 (1%)]\tLoss: 10706.171875\n",
      "====> Epoch: 2 Average loss: 10951.0320\n",
      "====> Test set loss: 10393.1456\n",
      "Train Epoch: 3 [0/6893 (0%)]\tLoss: 10667.792969\n",
      "Train Epoch: 3 [6400/6893 (1%)]\tLoss: 10168.211914\n",
      "====> Epoch: 3 Average loss: 10400.3867\n",
      "====> Test set loss: 9855.0571\n",
      "Train Epoch: 4 [0/6893 (0%)]\tLoss: 10129.848633\n",
      "Train Epoch: 4 [6400/6893 (1%)]\tLoss: 9647.754883\n",
      "====> Epoch: 4 Average loss: 9872.6227\n",
      "====> Test set loss: 9338.9796\n",
      "Train Epoch: 5 [0/6893 (0%)]\tLoss: 9611.535156\n",
      "Train Epoch: 5 [6400/6893 (1%)]\tLoss: 9153.852539\n",
      "====> Epoch: 5 Average loss: 9368.6614\n",
      "====> Test set loss: 8846.8443\n",
      "Train Epoch: 6 [0/6893 (0%)]\tLoss: 9121.530273\n",
      "Train Epoch: 6 [6400/6893 (1%)]\tLoss: 8688.260742\n",
      "====> Epoch: 6 Average loss: 8886.1605\n",
      "====> Test set loss: 8376.7646\n",
      "Train Epoch: 7 [0/6893 (0%)]\tLoss: 8653.893555\n",
      "Train Epoch: 7 [6400/6893 (1%)]\tLoss: 8233.898438\n",
      "====> Epoch: 7 Average loss: 8427.5819\n",
      "====> Test set loss: 7928.5075\n",
      "Train Epoch: 8 [0/6893 (0%)]\tLoss: 8200.798828\n",
      "Train Epoch: 8 [6400/6893 (1%)]\tLoss: 7792.778809\n",
      "====> Epoch: 8 Average loss: 7985.9181\n",
      "====> Test set loss: 7493.0183\n",
      "Train Epoch: 9 [0/6893 (0%)]\tLoss: 7762.757812\n",
      "Train Epoch: 9 [6400/6893 (1%)]\tLoss: 7366.047852\n",
      "====> Epoch: 9 Average loss: 7554.9092\n",
      "====> Test set loss: 7067.5420\n",
      "Train Epoch: 10 [0/6893 (0%)]\tLoss: 7343.163086\n",
      "Train Epoch: 10 [6400/6893 (1%)]\tLoss: 6954.638672\n",
      "====> Epoch: 10 Average loss: 7134.0426\n",
      "====> Test set loss: 6651.8969\n",
      "Train Epoch: 11 [0/6893 (0%)]\tLoss: 6929.253906\n",
      "Train Epoch: 11 [6400/6893 (1%)]\tLoss: 6542.894531\n",
      "====> Epoch: 11 Average loss: 6720.7171\n",
      "====> Test set loss: 6239.2947\n",
      "Train Epoch: 12 [0/6893 (0%)]\tLoss: 6519.810547\n",
      "Train Epoch: 12 [6400/6893 (1%)]\tLoss: 6125.117188\n",
      "====> Epoch: 12 Average loss: 6310.9239\n",
      "====> Test set loss: 5833.7208\n",
      "Train Epoch: 13 [0/6893 (0%)]\tLoss: 6115.680176\n",
      "Train Epoch: 13 [6400/6893 (1%)]\tLoss: 5737.380859\n",
      "====> Epoch: 13 Average loss: 5908.7679\n",
      "====> Test set loss: 5437.0540\n",
      "Train Epoch: 14 [0/6893 (0%)]\tLoss: 5711.627930\n",
      "Train Epoch: 14 [6400/6893 (1%)]\tLoss: 5356.277344\n",
      "====> Epoch: 14 Average loss: 5519.0811\n",
      "====> Test set loss: 5054.3537\n",
      "Train Epoch: 15 [0/6893 (0%)]\tLoss: 5320.918457\n",
      "Train Epoch: 15 [6400/6893 (1%)]\tLoss: 4979.865723\n",
      "====> Epoch: 15 Average loss: 5140.2972\n",
      "====> Test set loss: 4676.0464\n",
      "Train Epoch: 16 [0/6893 (0%)]\tLoss: 4949.297852\n",
      "Train Epoch: 16 [6400/6893 (1%)]\tLoss: 4588.100586\n",
      "====> Epoch: 16 Average loss: 4760.9286\n",
      "====> Test set loss: 4301.3200\n",
      "Train Epoch: 17 [0/6893 (0%)]\tLoss: 4573.226562\n",
      "Train Epoch: 17 [6400/6893 (1%)]\tLoss: 4233.050781\n",
      "====> Epoch: 17 Average loss: 4394.7795\n",
      "====> Test set loss: 3944.0636\n",
      "Train Epoch: 18 [0/6893 (0%)]\tLoss: 4229.223633\n",
      "Train Epoch: 18 [6400/6893 (1%)]\tLoss: 3908.377930\n",
      "====> Epoch: 18 Average loss: 4045.6038\n",
      "====> Test set loss: 3602.2485\n",
      "Train Epoch: 19 [0/6893 (0%)]\tLoss: 3862.723389\n",
      "Train Epoch: 19 [6400/6893 (1%)]\tLoss: 3569.105957\n",
      "====> Epoch: 19 Average loss: 3711.4861\n",
      "====> Test set loss: 3277.0076\n",
      "Train Epoch: 20 [0/6893 (0%)]\tLoss: 3560.250244\n",
      "Train Epoch: 20 [6400/6893 (1%)]\tLoss: 3265.858154\n",
      "====> Epoch: 20 Average loss: 3395.3433\n",
      "====> Test set loss: 2969.4520\n",
      "Train Epoch: 21 [0/6893 (0%)]\tLoss: 3212.251953\n",
      "Train Epoch: 21 [6400/6893 (1%)]\tLoss: 2950.198975\n",
      "====> Epoch: 21 Average loss: 3095.4371\n",
      "====> Test set loss: 2677.4784\n",
      "Train Epoch: 22 [0/6893 (0%)]\tLoss: 2957.535400\n",
      "Train Epoch: 22 [6400/6893 (1%)]\tLoss: 2682.095947\n",
      "====> Epoch: 22 Average loss: 2811.7130\n",
      "====> Test set loss: 2402.4759\n",
      "Train Epoch: 23 [0/6893 (0%)]\tLoss: 2662.220947\n",
      "Train Epoch: 23 [6400/6893 (1%)]\tLoss: 2434.274658\n",
      "====> Epoch: 23 Average loss: 2543.0614\n",
      "====> Test set loss: 2139.8092\n",
      "Train Epoch: 24 [0/6893 (0%)]\tLoss: 2399.563477\n",
      "Train Epoch: 24 [6400/6893 (1%)]\tLoss: 2187.286621\n",
      "====> Epoch: 24 Average loss: 2288.3169\n",
      "====> Test set loss: 1893.0653\n",
      "Train Epoch: 25 [0/6893 (0%)]\tLoss: 2174.834229\n",
      "Train Epoch: 25 [6400/6893 (1%)]\tLoss: 1943.797607\n",
      "====> Epoch: 25 Average loss: 2053.6199\n",
      "====> Test set loss: 1670.5862\n",
      "Train Epoch: 26 [0/6893 (0%)]\tLoss: 1954.818481\n",
      "Train Epoch: 26 [6400/6893 (1%)]\tLoss: 1758.655884\n",
      "====> Epoch: 26 Average loss: 1838.7307\n",
      "====> Test set loss: 1466.2875\n",
      "Train Epoch: 27 [0/6893 (0%)]\tLoss: 1739.781250\n",
      "Train Epoch: 27 [6400/6893 (1%)]\tLoss: 1547.893799\n",
      "====> Epoch: 27 Average loss: 1649.1764\n",
      "====> Test set loss: 1290.7800\n",
      "Train Epoch: 28 [0/6893 (0%)]\tLoss: 1576.369019\n",
      "Train Epoch: 28 [6400/6893 (1%)]\tLoss: 1404.840942\n",
      "====> Epoch: 28 Average loss: 1485.0838\n",
      "====> Test set loss: 1138.2825\n",
      "Train Epoch: 29 [0/6893 (0%)]\tLoss: 1412.775513\n",
      "Train Epoch: 29 [6400/6893 (1%)]\tLoss: 1286.602295\n",
      "====> Epoch: 29 Average loss: 1343.4636\n",
      "====> Test set loss: 1009.1544\n",
      "Train Epoch: 30 [0/6893 (0%)]\tLoss: 1285.687256\n",
      "Train Epoch: 30 [6400/6893 (1%)]\tLoss: 1180.726074\n",
      "====> Epoch: 30 Average loss: 1224.8500\n",
      "====> Test set loss: 901.4924\n",
      "Train Epoch: 31 [0/6893 (0%)]\tLoss: 1170.975830\n",
      "Train Epoch: 31 [6400/6893 (1%)]\tLoss: 1106.946655\n",
      "====> Epoch: 31 Average loss: 1124.9184\n",
      "====> Test set loss: 809.5774\n",
      "Train Epoch: 32 [0/6893 (0%)]\tLoss: 1081.535645\n",
      "Train Epoch: 32 [6400/6893 (1%)]\tLoss: 992.985291\n",
      "====> Epoch: 32 Average loss: 1039.7263\n",
      "====> Test set loss: 732.6254\n",
      "Train Epoch: 33 [0/6893 (0%)]\tLoss: 986.819031\n",
      "Train Epoch: 33 [6400/6893 (1%)]\tLoss: 942.855164\n",
      "====> Epoch: 33 Average loss: 966.7204\n",
      "====> Test set loss: 666.7261\n",
      "Train Epoch: 34 [0/6893 (0%)]\tLoss: 948.651245\n",
      "Train Epoch: 34 [6400/6893 (1%)]\tLoss: 885.819458\n",
      "====> Epoch: 34 Average loss: 907.1841\n",
      "====> Test set loss: 614.2374\n",
      "Train Epoch: 35 [0/6893 (0%)]\tLoss: 877.409973\n",
      "Train Epoch: 35 [6400/6893 (1%)]\tLoss: 836.008423\n",
      "====> Epoch: 35 Average loss: 858.9530\n",
      "====> Test set loss: 571.6937\n",
      "Train Epoch: 36 [0/6893 (0%)]\tLoss: 835.694824\n",
      "Train Epoch: 36 [6400/6893 (1%)]\tLoss: 811.246094\n",
      "====> Epoch: 36 Average loss: 819.6982\n",
      "====> Test set loss: 536.5884\n",
      "Train Epoch: 37 [0/6893 (0%)]\tLoss: 791.486328\n",
      "Train Epoch: 37 [6400/6893 (1%)]\tLoss: 768.560303\n",
      "====> Epoch: 37 Average loss: 787.6418\n",
      "====> Test set loss: 507.4938\n",
      "Train Epoch: 38 [0/6893 (0%)]\tLoss: 768.041748\n",
      "Train Epoch: 38 [6400/6893 (1%)]\tLoss: 750.599487\n",
      "====> Epoch: 38 Average loss: 760.5117\n",
      "====> Test set loss: 484.6628\n",
      "Train Epoch: 39 [0/6893 (0%)]\tLoss: 749.215332\n",
      "Train Epoch: 39 [6400/6893 (1%)]\tLoss: 737.823364\n",
      "====> Epoch: 39 Average loss: 738.5941\n",
      "====> Test set loss: 465.3964\n",
      "Train Epoch: 40 [0/6893 (0%)]\tLoss: 718.949585\n",
      "Train Epoch: 40 [6400/6893 (1%)]\tLoss: 715.833069\n",
      "====> Epoch: 40 Average loss: 720.6987\n",
      "====> Test set loss: 450.5959\n",
      "Train Epoch: 41 [0/6893 (0%)]\tLoss: 709.374329\n",
      "Train Epoch: 41 [6400/6893 (1%)]\tLoss: 694.530518\n",
      "====> Epoch: 41 Average loss: 705.8158\n",
      "====> Test set loss: 437.4047\n",
      "Train Epoch: 42 [0/6893 (0%)]\tLoss: 705.810669\n",
      "Train Epoch: 42 [6400/6893 (1%)]\tLoss: 683.175232\n",
      "====> Epoch: 42 Average loss: 693.5972\n",
      "====> Test set loss: 426.5249\n",
      "Train Epoch: 43 [0/6893 (0%)]\tLoss: 702.806946\n",
      "Train Epoch: 43 [6400/6893 (1%)]\tLoss: 702.495361\n",
      "====> Epoch: 43 Average loss: 683.1233\n",
      "====> Test set loss: 417.8591\n",
      "Train Epoch: 44 [0/6893 (0%)]\tLoss: 674.398132\n",
      "Train Epoch: 44 [6400/6893 (1%)]\tLoss: 667.760559\n",
      "====> Epoch: 44 Average loss: 674.0166\n",
      "====> Test set loss: 410.2863\n",
      "Train Epoch: 45 [0/6893 (0%)]\tLoss: 653.293579\n"
     ]
    }
   ],
   "source": [
    "for epoch in range(1, n_epochs + 1):\n",
    "        train_l1(train_data, model_l1_diag, model_l1_optimizer, epoch)\n",
    "        test(test_data, model_l1_diag, epoch)"
   ]
  },
  {
   "cell_type": "code",
   "execution_count": null,
   "metadata": {},
   "outputs": [],
   "source": [
    "bins = [10**(-i) for i in range(10)]\n",
    "bins.reverse()\n",
    "bins += [10]\n",
    "np.histogram(model_l1_diag.diag.abs().clone().detach().cpu().numpy(), bins = bins)"
   ]
  },
  {
   "cell_type": "code",
   "execution_count": null,
   "metadata": {},
   "outputs": [],
   "source": [
    "with torch.no_grad():\n",
    "    train_pred = model_l1_diag(train_data[0:64, :])[0]\n",
    "    train_pred[train_pred < 0.001] = 0 \n",
    "\n",
    "    test_pred = model_l1_diag(test_data[0:64,:])[0]\n",
    "    test_pred[test_pred < 0.001] = 0 "
   ]
  },
  {
   "cell_type": "code",
   "execution_count": null,
   "metadata": {},
   "outputs": [],
   "source": [
    "test_data[0, :]"
   ]
  },
  {
   "cell_type": "code",
   "execution_count": null,
   "metadata": {},
   "outputs": [],
   "source": [
    "torch.sum(test_pred[9,:] != 0)"
   ]
  },
  {
   "cell_type": "code",
   "execution_count": null,
   "metadata": {},
   "outputs": [],
   "source": [
    "torch.sum(test_data[9,:] != 0)"
   ]
  },
  {
   "cell_type": "code",
   "execution_count": null,
   "metadata": {},
   "outputs": [],
   "source": [
    "with torch.no_grad():\n",
    "    print(torch.sum((train_pred - train_data[0:64, :]).abs()) / 64/500)\n",
    "    print(torch.sum((test_pred - test_data[0:64, :]).abs()) / 64/500)"
   ]
  },
  {
   "cell_type": "markdown",
   "metadata": {},
   "source": [
    "First try Pretrained VAE and then gumble trick with it\n",
    "\n",
    "Then try joint training VAE and Gumbel Model"
   ]
  },
  {
   "cell_type": "code",
   "execution_count": null,
   "metadata": {},
   "outputs": [],
   "source": [
    "# Vanilla VAE model\n",
    "# try with gaussian decoder\n",
    "class VAE(nn.Module):\n",
    "    def __init__(self, input_size, hidden_layer_size, z_size):\n",
    "        super(VAE, self).__init__()\n",
    "\n",
    "        #self.fc1 = nn.Linear(input_size, hidden_layer_size)\n",
    "        self.fc21 = nn.Linear(hidden_layer_size, z_size)\n",
    "        self.fc22 = nn.Linear(hidden_layer_size, z_size)\n",
    "        self.fc3 = nn.Linear(z_size, hidden_layer_size)\n",
    "        self.fc4 = nn.Linear(hidden_layer_size, input_size)\n",
    "        self.fc5 = nn.Linear(hidden_layer_size, input_size)\n",
    "        \n",
    "        self.encoder = nn.Sequential(\n",
    "            nn.Linear(input_size, hidden_layer_size),\n",
    "            nn.LeakyReLU(),\n",
    "            nn.Linear(hidden_layer_size, hidden_layer_size),\n",
    "            nn.LeakyReLU(),\n",
    "            nn.Linear(hidden_layer_size, hidden_layer_size),\n",
    "            nn.LeakyReLU()\n",
    "        )\n",
    "        \n",
    "        #self.decoder = nn.Sequential()\n",
    "\n",
    "    def encode(self, x):\n",
    "        #h1 = F.relu(self.fc1(x))\n",
    "        h1 = self.encoder(x)\n",
    "        return self.fc21(h1), self.fc22(h1)\n",
    "\n",
    "    def reparameterize(self, mu, logvar):\n",
    "        std = torch.exp(0.5*logvar)\n",
    "        eps = torch.randn_like(std)\n",
    "        return mu + eps*std\n",
    "\n",
    "    def decode(self, z):    \n",
    "        h = F.leaky_relu(self.fc3(z))\n",
    "        mu_x = F.leaky_relu(self.fc4(h))\n",
    "        #mu_x = self.fc4(h)\n",
    "        logvar_x = self.fc5(h)\n",
    "        return mu_x, logvar_x\n",
    "\n",
    "    def forward(self, x):\n",
    "        mu_latent, logvar_latent = self.encode(x)\n",
    "        z = self.reparameterize(mu_latent, logvar_latent)\n",
    "        mu_x, logvar_x = self.decode(z)\n",
    "        return mu_x, logvar_x, mu_latent, logvar_latent\n"
   ]
  },
  {
   "cell_type": "markdown",
   "metadata": {},
   "source": [
    "# Pretrain VAE First"
   ]
  },
  {
   "cell_type": "code",
   "execution_count": null,
   "metadata": {},
   "outputs": [],
   "source": [
    "pretrain_vae = VAE(500, 200, 50)\n",
    "\n",
    "pretrain_vae.to(device)\n",
    "pretrain_vae_optimizer = torch.optim.Adam(pretrain_vae.parameters(), \n",
    "                                            lr=lr,\n",
    "                                            betas = (b1,b2))"
   ]
  },
  {
   "cell_type": "code",
   "execution_count": null,
   "metadata": {},
   "outputs": [],
   "source": [
    "def train(df, model, optimizer, epoch):\n",
    "    model.train()\n",
    "    train_loss = 0\n",
    "    permutations = torch.randperm(df.shape[0])\n",
    "    for i in range(math.ceil(len(df)/batch_size)):\n",
    "        batch_ind = permutations[i * batch_size : (i+1) * batch_size]\n",
    "        batch_data = df[batch_ind, :]\n",
    "        \n",
    "        optimizer.zero_grad()\n",
    "        mu_x, logvar_x, mu_latent, logvar_latent = model(batch_data)\n",
    "        loss = loss_function_per_autoencoder(batch_data, mu_x, logvar_x, mu_latent, logvar_latent)\n",
    "        loss.backward()\n",
    "        train_loss += loss.item()\n",
    "        optimizer.step()\n",
    "        \n",
    "        if i % log_interval == 0:\n",
    "            print('Train Epoch: {} [{}/{} ({:.0f}%)]\\tLoss: {:.6f}'.format(\n",
    "                epoch, i * len(batch_data), len(df),\n",
    "                100. * i / len(df),\n",
    "                loss.item() / len(batch_data)))\n",
    "\n",
    "    print('====> Epoch: {} Average loss: {:.4f}'.format(\n",
    "          epoch, train_loss / len(df)))\n",
    "    \n",
    "    \n"
   ]
  },
  {
   "cell_type": "code",
   "execution_count": null,
   "metadata": {},
   "outputs": [],
   "source": [
    "for epoch in range(1, n_epochs + 1):\n",
    "        train(train_data, pretrain_vae, pretrain_vae_optimizer, epoch)\n",
    "        test(test_data, pretrain_vae, epoch)"
   ]
  },
  {
   "cell_type": "code",
   "execution_count": null,
   "metadata": {},
   "outputs": [],
   "source": [
    "with torch.no_grad():\n",
    "    train_pred = pretrain_vae(train_data[0:64, :])[0]\n",
    "    train_pred[train_pred < 0.001] = 0 \n",
    "\n",
    "    test_pred = pretrain_vae(test_data[0:64,:])[0]\n",
    "    test_pred[test_pred < 0.001] = 0 "
   ]
  },
  {
   "cell_type": "code",
   "execution_count": null,
   "metadata": {},
   "outputs": [],
   "source": [
    "with torch.no_grad():\n",
    "    print(torch.sum((train_pred - train_data[0:64, :]).abs()) / 64/500)\n",
    "    print(torch.sum((test_pred - test_data[0:64, :]).abs()) / 64/500)"
   ]
  },
  {
   "cell_type": "code",
   "execution_count": null,
   "metadata": {},
   "outputs": [],
   "source": [
    "print(torch.sum(test_pred[0,:] != 0))\n",
    "print(torch.sum(test_data[0,:] != 0))"
   ]
  },
  {
   "cell_type": "code",
   "execution_count": null,
   "metadata": {},
   "outputs": [],
   "source": [
    "for p in pretrain_vae.parameters():\n",
    "    p.requires_grad = False"
   ]
  },
  {
   "cell_type": "code",
   "execution_count": null,
   "metadata": {},
   "outputs": [],
   "source": [
    "pretrain_vae.requires_grad_(False)"
   ]
  },
  {
   "cell_type": "markdown",
   "metadata": {},
   "source": [
    "## Train Gumbel with the Pre-Trained VAE"
   ]
  },
  {
   "cell_type": "code",
   "execution_count": null,
   "metadata": {},
   "outputs": [],
   "source": [
    "def train_pre_trained(df, model, optimizer, epoch, pretrained_model):\n",
    "    model.train()\n",
    "    train_loss = 0\n",
    "    permutations = torch.randperm(df.shape[0])\n",
    "    for i in range(math.ceil(len(df)/batch_size)):\n",
    "        batch_ind = permutations[i * batch_size : (i+1) * batch_size]\n",
    "        batch_data = df[batch_ind, :]\n",
    "        \n",
    "        optimizer.zero_grad()\n",
    "        mu_x, logvar_x, mu_latent, logvar_latent = model(batch_data)\n",
    "        with torch.no_grad():\n",
    "            _, _, mu_latent_2, logvar_latent_2 = pretrained_model(batch_data)\n",
    "        \n",
    "        loss = loss_function_per_autoencoder(batch_data, mu_x, logvar_x, mu_latent, logvar_latent)\n",
    "        loss += 1000*F.mse_loss(mu_latent, mu_latent_2, reduction = 'sum')\n",
    "        loss.backward()\n",
    "        train_loss += loss.item()\n",
    "        optimizer.step()\n",
    "        \n",
    "        if i % log_interval == 0:\n",
    "            print('Train Epoch: {} [{}/{} ({:.0f}%)]\\tLoss: {:.6f}'.format(\n",
    "                epoch, i * len(batch_data), len(df),\n",
    "                100. * i / len(df),\n",
    "                loss.item() / len(batch_data)))\n",
    "\n",
    "    print('====> Epoch: {} Average loss: {:.4f}'.format(\n",
    "          epoch, train_loss / len(df)))"
   ]
  },
  {
   "cell_type": "code",
   "execution_count": null,
   "metadata": {},
   "outputs": [],
   "source": [
    "def gumbel_keys(w):\n",
    "    # sample some gumbels\n",
    "    uniform = (1.0 - EPSILON) * torch.rand_like(w) + EPSILON\n",
    "    z = torch.log(-torch.log(uniform))\n",
    "    w = w + z\n",
    "    return w\n",
    "\n",
    "\n",
    "#equations 3 and 4 and 5\n",
    "def continuous_topk(w, k, t, separate=False):\n",
    "    softmax = nn.Softmax(dim = -1)\n",
    "    khot_list = []\n",
    "    onehot_approx = torch.zeros_like(w, dtype = torch.float32)\n",
    "    for i in range(k):\n",
    "        ### conver the following into pytorch\n",
    "        #khot_mask = tf.maximum(1.0 - onehot_approx, EPSILON)\n",
    "        max_mask = 1 - onehot_approx < EPSILON\n",
    "        khot_mask = 1 - onehot_approx\n",
    "        khot_mask[max_mask] = EPSILON\n",
    "        \n",
    "        w += torch.log(khot_mask)\n",
    "        #onehot_approx = tf.nn.softmax(w / t, axis=-1)\n",
    "        onehot_approx = softmax(w/t)\n",
    "        khot_list.append(onehot_approx)\n",
    "    if separate:\n",
    "        return torch.stack(khot_list)\n",
    "    else:\n",
    "        return torch.sum(torch.stack(khot_list), dim = 0) \n",
    "\n",
    "\n",
    "def sample_subset(w, k, t=0.1):\n",
    "    '''\n",
    "    Args:\n",
    "        w (Tensor): Float Tensor of weights for each element. In gumbel mode\n",
    "            these are interpreted as log probabilities\n",
    "        k (int): number of elements in the subset sample\n",
    "        t (float): temperature of the softmax\n",
    "    '''\n",
    "    w = gumbel_keys(w)\n",
    "    return continuous_topk(w, k, t)"
   ]
  },
  {
   "cell_type": "code",
   "execution_count": null,
   "metadata": {},
   "outputs": [],
   "source": [
    "# L1 VAE model we are loading\n",
    "class VAE_Gumbel(nn.Module):\n",
    "    def __init__(self, input_size, hidden_layer_size, z_size, k, t = 0.1):\n",
    "        super(VAE_Gumbel, self).__init__()\n",
    "        \n",
    "        self.k = k\n",
    "        self.t = t\n",
    "        \n",
    "        self.weight_creator = nn.Sequential(\n",
    "            nn.Linear(input_size, hidden_layer_size),\n",
    "            nn.ReLU(),\n",
    "            nn.Linear(hidden_layer_size, input_size)\n",
    "        )\n",
    "        \n",
    "        #self.fc1 = nn.Linear(input_size, hidden_layer_size)\n",
    "        #self.fcextra = nn.Linear(hidden_layer_size, hidden_layer_size)\n",
    "        self.fc21 = nn.Linear(hidden_layer_size, z_size)\n",
    "        self.fc22 = nn.Linear(hidden_layer_size, z_size)\n",
    "        self.fc3 = nn.Linear(z_size, hidden_layer_size)\n",
    "        self.fc4 = nn.Linear(hidden_layer_size, input_size)\n",
    "        self.fc5 = nn.Linear(hidden_layer_size, input_size)\n",
    "        \n",
    "        self.encoder = nn.Sequential(\n",
    "            nn.Linear(input_size, hidden_layer_size),\n",
    "            nn.LeakyReLU(),\n",
    "            nn.Linear(hidden_layer_size, hidden_layer_size),\n",
    "            nn.LeakyReLU(),\n",
    "            nn.Linear(hidden_layer_size, hidden_layer_size),\n",
    "            nn.LeakyReLU()\n",
    "        )\n",
    "        \n",
    "\n",
    "    def encode(self, x):\n",
    "        w = self.weight_creator(x)\n",
    "        subset_indices = sample_subset(w, self.k, self.t)\n",
    "        x = x * subset_indices\n",
    "        h1 = self.encoder(x)\n",
    "        return self.fc21(h1), self.fc22(h1)\n",
    "\n",
    "    def reparameterize(self, mu, logvar):\n",
    "        std = torch.exp(0.5*logvar)\n",
    "        eps = torch.randn_like(std)\n",
    "        return mu + eps*std\n",
    "\n",
    "    def decode(self, z):\n",
    "        h = F.leaky_relu(self.fc3(z))\n",
    "        mu_x = F.leaky_relu(self.fc4(h))\n",
    "        #mu_x = self.fc4(h)\n",
    "        logvar_x = self.fc5(h)\n",
    "        return mu_x, logvar_x\n",
    "\n",
    "    def forward(self, x):\n",
    "        mu_latent, logvar_latent = self.encode(x)\n",
    "        z = self.reparameterize(mu_latent, logvar_latent)\n",
    "        mu_x, logvar_x = self.decode(z)\n",
    "        return mu_x, logvar_x, mu_latent, logvar_latent\n"
   ]
  },
  {
   "cell_type": "code",
   "execution_count": null,
   "metadata": {},
   "outputs": [],
   "source": [
    "vae_gumbel_with_pre = VAE_Gumbel(500, 200, 50, k = 50)\n",
    "vae_gumbel_with_pre.to(device)\n",
    "vae_gumbel_with_pre_optimizer = torch.optim.Adam(vae_gumbel_with_pre.parameters(), \n",
    "                                                lr=lr, \n",
    "                                                betas = (b1,b2))"
   ]
  },
  {
   "cell_type": "code",
   "execution_count": null,
   "metadata": {},
   "outputs": [],
   "source": [
    "for epoch in range(1, n_epochs + 1):\n",
    "        train_pre_trained(train_data, vae_gumbel_with_pre, vae_gumbel_with_pre_optimizer, epoch, pretrain_vae)\n",
    "        test(test_data, vae_gumbel_with_pre, epoch)"
   ]
  },
  {
   "cell_type": "code",
   "execution_count": null,
   "metadata": {},
   "outputs": [],
   "source": [
    "with torch.no_grad():\n",
    "    train_pred = vae_gumbel_with_pre(train_data[0:64, :])[0]\n",
    "    train_pred[train_pred < 0.001] = 0 \n",
    "\n",
    "    test_pred = vae_gumbel_with_pre(test_data[0:64,:])[0]\n",
    "    test_pred[test_pred < 0.001] = 0 "
   ]
  },
  {
   "cell_type": "code",
   "execution_count": null,
   "metadata": {},
   "outputs": [],
   "source": [
    "with torch.no_grad():\n",
    "    print(torch.sum((train_pred - train_data[0:64, :]).abs()) / 64/500)\n",
    "    print(torch.sum((test_pred - test_data[0:64, :]).abs()) / 64/500)"
   ]
  },
  {
   "cell_type": "code",
   "execution_count": null,
   "metadata": {},
   "outputs": [],
   "source": [
    "print(torch.sum(test_pred[4,:] != 0))\n",
    "print(torch.sum(test_data[4,:] != 0))"
   ]
  },
  {
   "cell_type": "markdown",
   "metadata": {},
   "source": [
    "# Joint Training"
   ]
  },
  {
   "cell_type": "code",
   "execution_count": null,
   "metadata": {},
   "outputs": [],
   "source": [
    "# model 1 should be vanilla\n",
    "\n",
    "def train_joint(df, model1, model2, optimizer, epoch):\n",
    "    model1.train()\n",
    "    model2.train()\n",
    "    train_loss = 0\n",
    "    permutations = torch.randperm(df.shape[0])\n",
    "    for i in range(math.ceil(len(df)/batch_size)):\n",
    "        batch_ind = permutations[i * batch_size : (i+1) * batch_size]\n",
    "        batch_data = df[batch_ind, :]\n",
    "        \n",
    "        optimizer.zero_grad()\n",
    "\n",
    "        \n",
    "        loss_vae_1, loss_vae_2, joint_kld_loss = loss_function_joint(batch_data, model1, model2)\n",
    "        loss = (loss_vae_1 + loss_vae_2 + 1000 * joint_kld_loss)\n",
    "        loss.backward()\n",
    "        \n",
    "        train_loss += loss.item()\n",
    "        \n",
    "        optimizer.step()\n",
    "        \n",
    "        if i % log_interval == 0:\n",
    "            print('Train Epoch: {} [{}/{} ({:.0f}%)]\\tLoss: {:.6f}'.format(\n",
    "                epoch, i * len(batch_data), len(df),\n",
    "                100. * i / len(df),\n",
    "                loss.item() / len(batch_data)))\n",
    "\n",
    "    print('====> Epoch: {} Average loss: {:.4f}'.format(\n",
    "          epoch, train_loss / len(df)))"
   ]
  },
  {
   "cell_type": "code",
   "execution_count": null,
   "metadata": {},
   "outputs": [],
   "source": [
    "def test_joint(df, model1, model2, epoch):\n",
    "    model1.eval()\n",
    "    model2.eval()\n",
    "    test_loss = 0\n",
    "    inds = np.arange(df.shape[0])\n",
    "    with torch.no_grad():\n",
    "        for i in range(math.ceil(len(df)/batch_size)):\n",
    "            batch_ind = inds[i * batch_size : (i+1) * batch_size]\n",
    "            batch_data = df[batch_ind, :]\n",
    "            batch_data = batch_data.to(device)\n",
    "            loss_vae_1, loss_vae_2, joint_kld_loss = loss_function_joint(batch_data, model1, model2)\n",
    "        \n",
    "            test_loss += (loss_vae_1 + loss_vae_2 + 1000 * joint_kld_loss).item()\n",
    "\n",
    "\n",
    "    test_loss /= len(df)\n",
    "    print('====> Test set loss: {:.4f}'.format(test_loss))"
   ]
  },
  {
   "cell_type": "code",
   "execution_count": null,
   "metadata": {},
   "outputs": [],
   "source": [
    "joint_vanilla_vae = VAE(500, 200, 50)\n",
    "joint_vanilla_vae.to(device)\n",
    "\n",
    "joint_vae_gumbel = VAE_Gumbel(500, 200, 50, k = 50)\n",
    "joint_vae_gumbel.to(device)\n",
    "\n",
    "\n",
    "joint_optimizer = torch.optim.Adam(list(joint_vanilla_vae.parameters()) + list(joint_vae_gumbel.parameters()), \n",
    "                                                lr=lr, \n",
    "                                                betas = (b1,b2))"
   ]
  },
  {
   "cell_type": "code",
   "execution_count": null,
   "metadata": {},
   "outputs": [],
   "source": [
    "for epoch in range(1, n_epochs + 1):\n",
    "    train_joint(train_data, joint_vanilla_vae, joint_vae_gumbel, joint_optimizer, epoch)\n",
    "    test_joint(test_data, joint_vanilla_vae, joint_vae_gumbel, epoch)"
   ]
  },
  {
   "cell_type": "code",
   "execution_count": null,
   "metadata": {},
   "outputs": [],
   "source": [
    "with torch.no_grad():\n",
    "    train_pred = joint_vae_gumbel(train_data[0:64, :])[0]\n",
    "    train_pred[train_pred < 0.001] = 0 \n",
    "\n",
    "    test_pred = joint_vae_gumbel(test_data[0:64,:])[0]\n",
    "    test_pred[test_pred < 0.001] = 0 "
   ]
  },
  {
   "cell_type": "code",
   "execution_count": null,
   "metadata": {},
   "outputs": [],
   "source": [
    "with torch.no_grad():\n",
    "    print(torch.sum((train_pred - train_data[0:64, :]).abs()) / 64/500)\n",
    "    print(torch.sum((test_pred - test_data[0:64, :]).abs()) / 64/500)"
   ]
  },
  {
   "cell_type": "code",
   "execution_count": null,
   "metadata": {},
   "outputs": [],
   "source": [
    "print(torch.sum(test_pred[4,:] != 0))\n",
    "print(torch.sum(test_data[4,:] != 0))"
   ]
  },
  {
   "cell_type": "code",
   "execution_count": null,
   "metadata": {},
   "outputs": [],
   "source": []
  },
  {
   "cell_type": "markdown",
   "metadata": {},
   "source": [
    "### Let's actually Garph this.\n",
    "\n",
    "### Try it out at Gumbel sparsity of k = 10, 25, 50, 100, 250\n",
    "\n",
    "### Graph Test MSE Loss\n",
    "\n",
    "## Graph the mean activations at k = 50"
   ]
  },
  {
   "cell_type": "code",
   "execution_count": 149,
   "metadata": {},
   "outputs": [],
   "source": [
    "def graph_activations(test_data, model, title, file):\n",
    "    preds, _, _, _ = model(test_data)\n",
    "    \n",
    "    pred_activations = preds.mean(dim = 0)\n",
    "    \n",
    "    test_activations = test_data.mean(dim = 0)\n",
    "    \n",
    "    x = np.arange(500) + 1\n",
    "    \n",
    "    fig = plt.figure()\n",
    "    plt.plot(x, pred_activations.clone().detach().cpu().numpy(), label = 'Average Predictions')\n",
    "    plt.plot(x, test_activations.clone().detach().cpu().numpy(), label = 'Average Test Data')\n",
    "    \n",
    "    plt.title(title)\n",
    "    \n",
    "    plt.legend()\n",
    "    plt.savefig(file)"
   ]
  },
  {
   "cell_type": "code",
   "execution_count": 150,
   "metadata": {},
   "outputs": [
    {
     "data": {
      "image/png": "[encoded data removed]",
      "text/plain": [
       "<Figure size 432x288 with 1 Axes>"
      ]
     },
     "metadata": {
      "needs_background": "light"
     },
     "output_type": "display_data"
    }
   ],
   "source": [
    "graph_activations(test_data, joint_vae_gumbel, 'Joint Gumbel vs Test Means', \n",
    "                  '/scratch/ns3429/sparse-subset/joint_gumbel.png')"
   ]
  },
  {
   "cell_type": "code",
   "execution_count": null,
   "metadata": {},
   "outputs": [],
   "source": [
    "graph_activations(test_data, vae_gumbel_with_pre, 'Gumbel Matching Pretrained VAE vs Test Means', \n",
    "                  '/scratch/ns3429/sparse-subset/pretrained_gumbel.png')"
   ]
  },
  {
   "cell_type": "code",
   "execution_count": null,
   "metadata": {},
   "outputs": [],
   "source": [
    "k_all = [10, 25, 50, 100, 250]"
   ]
  },
  {
   "cell_type": "code",
   "execution_count": 152,
   "metadata": {},
   "outputs": [],
   "source": [
    "losses_pre = []\n",
    "losses_joint = []"
   ]
  },
  {
   "cell_type": "code",
   "execution_count": null,
   "metadata": {},
   "outputs": [],
   "source": [
    "for k in k_all:\n",
    "    vae_gumbel_with_pre = VAE_Gumbel(500, 200, 50, k = k)\n",
    "    vae_gumbel_with_pre.to(device)\n",
    "    vae_gumbel_with_pre_optimizer = torch.optim.Adam(vae_gumbel_with_pre.parameters(), \n",
    "                                                lr=lr, \n",
    "                                                betas = (b1,b2))\n",
    "    \n",
    "    joint_vanilla_vae = VAE(500, 200, 50)\n",
    "    joint_vanilla_vae.to(device)\n",
    "\n",
    "    joint_vae_gumbel = VAE_Gumbel(500, 200, 50, k = k)\n",
    "    joint_vae_gumbel.to(device)\n",
    "\n",
    "\n",
    "    joint_optimizer = torch.optim.Adam(list(joint_vanilla_vae.parameters()) + list(joint_vae_gumbel.parameters()), \n",
    "                                                lr=lr, \n",
    "                                                betas = (b1,b2))\n",
    "    \n",
    "    for epoch in (1, n_epochs + 1):\n",
    "        train_pre_trained(train_data, vae_gumbel_with_pre, vae_gumbel_with_pre_optimizer, epoch, pretrain_vae)\n",
    "        train_joint(train_data, joint_vanilla_vae, joint_vae_gumbel, joint_optimizer, epoch)\n",
    "    \n",
    "    test_pred_pre = vae_gumbel_with_pre(test_data)[0]\n",
    "    test_pred_pre[test_pred_pre < 0.001] = 0 \n",
    "    \n",
    "    test_pred_joint = joint_vanilla_vae(test_data)[0]\n",
    "    test_pred_joint[test_pred_joint < 0.001] = 0\n",
    "    \n",
    "    with torch.no_grad():\n",
    "        mae_pre = torch.sum((test_pred_pre - test_data).abs()) / len(test_data) / 500\n",
    "        mae_joint = torch.sum((test_pred_joint - test_data).abs()) / len(test_data) / 500\n",
    "    \n",
    "    losses_pre.append(mae_pre.cpu().item())\n",
    "    losses_joint.append(mae_joint.cpu().item())\n",
    "    \n",
    "fig = plt.figure()\n",
    "plt.plot(k_all, losses_pre, label = 'Average MAE Losses with Gumbel Matching Pretrained')\n",
    "plt.plot(k_all, losses_joint, label = 'Average MAE Losses with Gumbel Joint Training')\n",
    "\n",
    "plt.title(\"Effect on Sparsity on MAE Loss\")\n",
    "plt.xlabel('Sparsity Level (Number of Non-Zero Features)')\n",
    "plt.ylabel('Per Neuron Average MAE Loss')\n",
    "plt.legend()\n",
    "\n",
    "plt.savefig('/scratch/ns3429/sparse-subset/comparing_across_sparsity.png')"
   ]
  }
 ],
 "metadata": {
  "kernelspec": {
   "display_name": "Python [conda env:nyu]",
   "language": "python",
   "name": "conda-env-nyu-py"
  },
  "language_info": {
   "codemirror_mode": {
    "name": "ipython",
    "version": 3
   },
   "file_extension": ".py",
   "mimetype": "text/x-python",
   "name": "python",
   "nbconvert_exporter": "python",
   "pygments_lexer": "ipython3",
   "version": "3.7.6"
  }
 },
 "nbformat": 4,
 "nbformat_minor": 4
}
